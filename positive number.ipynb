{
 "cells": [
  {
   "cell_type": "code",
   "execution_count": 3,
   "id": "215dd00e",
   "metadata": {},
   "outputs": [
    {
     "name": "stdout",
     "output_type": "stream",
     "text": [
      "12 14 3 "
     ]
    }
   ],
   "source": [
    "# Python program to print positive Numbers in a List\n",
    "\n",
    "# list of numbers\n",
    "list1=[12, 14, -95, 3]\n",
    "num = 0\n",
    "\n",
    "# using while loop\t\n",
    "while(num < len(list1)):\n",
    "\t\n",
    "\t# checking condition\n",
    "\tif list1[num] >= 0:\n",
    "\t\tprint(list1[num], end = \" \")\n",
    "\t\n",
    "\t# increment num\n",
    "\tnum += 1\n",
    "\t\n"
   ]
  },
  {
   "cell_type": "code",
   "execution_count": null,
   "id": "62c900d0",
   "metadata": {},
   "outputs": [],
   "source": []
  }
 ],
 "metadata": {
  "kernelspec": {
   "display_name": "Python 3 (ipykernel)",
   "language": "python",
   "name": "python3"
  },
  "language_info": {
   "codemirror_mode": {
    "name": "ipython",
    "version": 3
   },
   "file_extension": ".py",
   "mimetype": "text/x-python",
   "name": "python",
   "nbconvert_exporter": "python",
   "pygments_lexer": "ipython3",
   "version": "3.9.7"
  }
 },
 "nbformat": 4,
 "nbformat_minor": 5
}
